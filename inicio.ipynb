{
  "nbformat": 4,
  "nbformat_minor": 0,
  "metadata": {
    "colab": {
      "name": "inicio.ipynb",
      "version": "0.3.2",
      "provenance": [],
      "private_outputs": true,
      "include_colab_link": true
    },
    "kernelspec": {
      "name": "python3",
      "display_name": "Python 3"
    }
  },
  "cells": [
    {
      "cell_type": "markdown",
      "metadata": {
        "id": "view-in-github",
        "colab_type": "text"
      },
      "source": [
        "<a href=\"https://colab.research.google.com/github/Hachiman999/Colab-imagen/blob/master/inicio.ipynb\" target=\"_parent\"><img src=\"https://colab.research.google.com/assets/colab-badge.svg\" alt=\"Open In Colab\"/></a>"
      ]
    },
    {
      "cell_type": "code",
      "metadata": {
        "id": "0sPEIemIh-BW",
        "colab_type": "code",
        "colab": {}
      },
      "source": [
        "from google.colab import drive \n",
        "drive.mount('/content/drive')"
      ],
      "execution_count": 0,
      "outputs": []
    },
    {
      "cell_type": "markdown",
      "metadata": {
        "id": "jUs-aQZujp78",
        "colab_type": "text"
      },
      "source": [
        "esto lo que hace es enlasar drive con colab"
      ]
    },
    {
      "cell_type": "code",
      "metadata": {
        "id": "2DZzRx64juqU",
        "colab_type": "code",
        "colab": {}
      },
      "source": [
        "#importar librerias\n",
        "import numpy as np\n",
        "import matplotlib.pyplot as plt\n",
        "import cv2\n",
        "\n",
        "#graficar imagenes \n",
        "%matplotlib inline\n",
        "\n",
        "\n"
      ],
      "execution_count": 0,
      "outputs": []
    },
    {
      "cell_type": "code",
      "metadata": {
        "id": "RTzPRH5Bm9K4",
        "colab_type": "code",
        "colab": {}
      },
      "source": [
        "from google.colab.patches import cv2_imshow\n",
        "imagen = cv2.imread('/content/drive/My Drive/Colab Notebooks/Imagen/hinata.jpg', cv2.IMREAD_UNCHANGED)\n",
        "cv2_imshow(imagen)"
      ],
      "execution_count": 0,
      "outputs": []
    },
    {
      "cell_type": "code",
      "metadata": {
        "id": "Mk2S14ycpxe1",
        "colab_type": "code",
        "colab": {}
      },
      "source": [
        "imagen_bgr = cv2.imread('/content/drive/My Drive/Colab Notebooks/Imagen/hinata.jpg', cv2.IMREAD_COLOR)\n",
        "\n",
        "plt.figure(figsize =(10,10))\n",
        "plt.imshow(imagen_bgr)\n",
        "plt.show()"
      ],
      "execution_count": 0,
      "outputs": []
    },
    {
      "cell_type": "code",
      "metadata": {
        "id": "7jBLXFcijIEV",
        "colab_type": "code",
        "colab": {}
      },
      "source": [
        "!pwd\n",
        "\n",
        "from google.colab.patches import cv2_imshow\n",
        "img = cv2.imread('hinata.jpg', cv2.IMREAD_UNCHANGED)\n",
        "img = cv2.resize(img , (int(1000) , int(500)))\n",
        "cv2_imshow(img)"
      ],
      "execution_count": 0,
      "outputs": []
    },
    {
      "cell_type": "code",
      "metadata": {
        "id": "dkB_j0Ezruzl",
        "colab_type": "code",
        "colab": {}
      },
      "source": [
        "import os\n",
        "path= '/content/drive/My Drive/Colab Notebooks/Imagen/'\n",
        "os.chdir(path)\n",
        "from google.colab.patches import cv2_imshow\n",
        "img = cv2.imread('hinata.jpg', cv2.IMREAD_UNCHANGED)\n",
        "img = cv2.resize(img , (int(500) , int(500)))\n",
        "cv2_imshow(img)\n"
      ],
      "execution_count": 0,
      "outputs": []
    },
    {
      "cell_type": "code",
      "metadata": {
        "id": "9T-A0PKzvh_o",
        "colab_type": "code",
        "colab": {}
      },
      "source": [
        "print(img.shape)\n",
        "res = cv2.resize(img, None, fx=10, fy=10, interpolation = cv2.INTER_CUBIC)\n",
        "print(res.shape)\n",
        "plt.imshow(res)\n",
        "plt.show()"
      ],
      "execution_count": 0,
      "outputs": []
    },
    {
      "cell_type": "code",
      "metadata": {
        "id": "M6sk84zNwz2R",
        "colab_type": "code",
        "colab": {}
      },
      "source": [
        "print(img.shape)\n",
        "res = cv2.resize(img, None, fx=0.2, fy=0.2, interpolation = cv2.INTER_CUBIC)\n",
        "print(res.shape)\n",
        "plt.imshow(res)\n",
        "plt.xticks([])\n",
        "plt.yticks([])\n",
        "plt.show()"
      ],
      "execution_count": 0,
      "outputs": []
    },
    {
      "cell_type": "code",
      "metadata": {
        "id": "hIF2PGaUx3zy",
        "colab_type": "code",
        "colab": {}
      },
      "source": [
        "img_RGB =cv2.cvtColor(imagen_bgr , cv2.COLOR_BGR2RGB)\n",
        "plt.figure(figsize=(10,10))\n",
        "plt.imshow(img_RGB)\n",
        "plt.xticks([])\n",
        "plt.yticks([])\n",
        "plt.show()\n"
      ],
      "execution_count": 0,
      "outputs": []
    },
    {
      "cell_type": "code",
      "metadata": {
        "id": "pdCSL1KDz1MD",
        "colab_type": "code",
        "colab": {}
      },
      "source": [
        "img_bl =cv2.cvtColor(img_RGB , cv2.COLOR_BGR2GRAY)\n",
        "plt.figure(figsize=(10,10))\n",
        "plt.imshow(img_bl, cmap='gray')\n",
        "plt.xticks([])\n",
        "plt.yticks([])\n",
        "plt.show()"
      ],
      "execution_count": 0,
      "outputs": []
    },
    {
      "cell_type": "code",
      "metadata": {
        "id": "8TY5wzuP11KE",
        "colab_type": "code",
        "colab": {}
      },
      "source": [
        "def mostrar2(a,b, titulo1 =\"original\", titulo2=\"original\"):\n",
        "  plt.figure(figsize(14,14))\n",
        "  plt.subplot(121), plt.imshow(a), plt.title(titulo1)\n",
        "  plt.xticks([])\n",
        "  plt.yticks([])\n",
        "  plt.subplot(122), plt.imshow(b), plt.title(titulo2)\n",
        "  plt.xticks([])\n",
        "  plt.yticks([])\n",
        "  plt.show();\n",
        "  \n",
        "def mostrar1(a, titulo1 =\"original\"):\n",
        "  plt.imshow(a), plt.title(titulo1),plt.xticks([]),plt.yticks([])\n",
        "  plt.show()\n",
        "  \n",
        "mostrar2(img_bl) \n",
        "  "
      ],
      "execution_count": 0,
      "outputs": []
    }
  ]
}