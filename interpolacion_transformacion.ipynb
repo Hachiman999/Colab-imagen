{
  "nbformat": 4,
  "nbformat_minor": 0,
  "metadata": {
    "colab": {
      "name": "interpolacion-transformacion.ipynb",
      "version": "0.3.2",
      "provenance": [],
      "include_colab_link": true
    },
    "kernelspec": {
      "name": "python3",
      "display_name": "Python 3"
    }
  },
  "cells": [
    {
      "cell_type": "markdown",
      "metadata": {
        "id": "view-in-github",
        "colab_type": "text"
      },
      "source": [
        "<a href=\"https://colab.research.google.com/github/Hachiman999/Colab-imagen/blob/master/interpolacion_transformacion.ipynb\" target=\"_parent\"><img src=\"https://colab.research.google.com/assets/colab-badge.svg\" alt=\"Open In Colab\"/></a>"
      ]
    },
    {
      "cell_type": "markdown",
      "metadata": {
        "id": "j5P8hb5Fbltb",
        "colab_type": "text"
      },
      "source": [
        ""
      ]
    },
    {
      "cell_type": "code",
      "metadata": {
        "id": "2l4DHl75bzph",
        "colab_type": "code",
        "colab": {
          "base_uri": "https://localhost:8080/",
          "height": 34
        },
        "outputId": "ed74f3f4-ad99-4a60-f8c7-153d38f835fa"
      },
      "source": [
        "from google.colab.patches import cv2_imshow\n",
        "from google.colab import drive \n",
        "\n",
        "drive.mount('/content/drive')\n",
        "\n",
        "#importar librerias\n",
        "import numpy as np\n",
        "import matplotlib.pyplot as plt\n",
        "import cv2\n",
        "import os\n",
        "#graficar imagenes \n",
        "%matplotlib inline"
      ],
      "execution_count": 20,
      "outputs": [
        {
          "output_type": "stream",
          "text": [
            "Drive already mounted at /content/drive; to attempt to forcibly remount, call drive.mount(\"/content/drive\", force_remount=True).\n"
          ],
          "name": "stdout"
        }
      ]
    },
    {
      "cell_type": "markdown",
      "metadata": {
        "id": "X9Ta_o_Xd0Px",
        "colab_type": "text"
      },
      "source": [
        "Interpolacion\n"
      ]
    },
    {
      "cell_type": "code",
      "metadata": {
        "id": "r0nJOB0vd3yp",
        "colab_type": "code",
        "colab": {}
      },
      "source": [
        "def mostrar3(a,b,c, titulo1 =\"original\", titulo2=\"original\",titulo3=\"original\"):\n",
        "   plt.figure(figsize=(14,14))\n",
        "   plt.subplot(221), plt.imshow(a), plt.title(titulo1)\n",
        "   plt.xticks([])\n",
        "   plt.yticks([])\n",
        "   plt.subplot(222), plt.imshow(b), plt.title(titulo2)\n",
        "   plt.xticks([])\n",
        "   plt.yticks([])\n",
        "   plt.subplot(223), plt.imshow(c), plt.title(titulo3)\n",
        "   plt.xticks([])\n",
        "   plt.yticks([]) \n",
        "   plt.show()\n",
        "\n",
        "def mostrar3_gris(a,b,c, titulo1 =\"original\", titulo2=\"original\",titulo3=\"original\"):\n",
        "   plt.figure(figsize=(14,14))\n",
        "   plt.subplot(221), plt.imshow(a,cmap='gray'), plt.title(titulo1)\n",
        "   plt.xticks([])\n",
        "   plt.yticks([])\n",
        "   plt.subplot(222), plt.imshow(b,cmap='gray'), plt.title(titulo2)\n",
        "   plt.xticks([])\n",
        "   plt.yticks([])\n",
        "   plt.subplot(223), plt.imshow(c,cmap='gray'), plt.title(titulo3)\n",
        "   plt.xticks([])\n",
        "   plt.yticks([])\n",
        "   plt.show()\n",
        "    \n",
        "def mostrar2(a,b, titulo1 =\"original\", titulo2=\"original\"):\n",
        "   plt.figure(figsize=(14,14))\n",
        "   plt.subplot(221), plt.imshow(a), plt.title(titulo1)\n",
        "   plt.xticks([])\n",
        "   plt.yticks([])\n",
        "   plt.subplot(222), plt.imshow(b), plt.title(titulo2)\n",
        "   plt.xticks([])\n",
        "   plt.yticks([])\n",
        "   plt.show()\n",
        "\n",
        "def mostrar2_gris(a,b, titulo1 =\"original\", titulo2=\"original\"):\n",
        "   plt.figure(figsize=(14,14))\n",
        "   plt.subplot(221), plt.imshow(a,cmap='gray'), plt.title(titulo1)\n",
        "   plt.xticks([])\n",
        "   plt.yticks([])\n",
        "   plt.subplot(222), plt.imshow(b,cmap='gray'), plt.title(titulo2)\n",
        "   plt.xticks([])\n",
        "   plt.yticks([])\n",
        "   plt.show()\n",
        "  \n",
        "  \n",
        "def redRGB (path):\n",
        "  img = cv2.imread(path)\n",
        "  img=cv2.cvtColor(img,cv2.COLOR_BGR2RGB)\n",
        "  return img"
      ],
      "execution_count": 0,
      "outputs": []
    },
    {
      "cell_type": "code",
      "metadata": {
        "id": "cLRSMdHqi21w",
        "colab_type": "code",
        "colab": {
          "base_uri": "https://localhost:8080/",
          "height": 413
        },
        "outputId": "c0b0231b-e492-4e2b-fc72-9ffd0a494e2d"
      },
      "source": [
        "!pwd\n",
        "imgA = redRGB('/content/drive/My Drive/Colab Notebooks/Imagen/apple20x22.jpg')\n",
        "imgM = redRGB('/content/drive/My Drive/Colab Notebooks/Imagen/ico.jpg');\n",
        "ner_imgA = cv2.resize(imgA, None, fx =5 , fy =5 , interpolation = cv2.INTER_NEAREST)\n",
        "ner_imgB = cv2.resize(imgM, None, fx =5 , fy =5 , interpolation = cv2.INTER_NEAREST)\n",
        "mostrar2(ner_imgA, ner_imgB,'apple','señora')"
      ],
      "execution_count": 26,
      "outputs": [
        {
          "output_type": "stream",
          "text": [
            "/content\n"
          ],
          "name": "stdout"
        },
        {
          "output_type": "display_data",
          "data": {
            "image/png": "[encoded data removed]",
            "text/plain": [
              "<Figure size 1008x1008 with 2 Axes>"
            ]
          },
          "metadata": {
            "tags": []
          }
        }
      ]
    }
  ]
}